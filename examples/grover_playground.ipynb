{
 "cells": [
  {
   "cell_type": "code",
   "execution_count": 1,
   "metadata": {},
   "outputs": [],
   "source": [
    "from qibo.models import Circuit\n",
    "from qibo import gates\n",
    "import numpy as np\n",
    "from qibo.models import Grover"
   ]
  },
  {
   "cell_type": "code",
   "execution_count": 2,
   "metadata": {},
   "outputs": [],
   "source": [
    "superposition = Circuit(5)\n",
    "superposition.add([gates.H(i) for i in range(5)])"
   ]
  },
  {
   "cell_type": "code",
   "execution_count": 3,
   "metadata": {},
   "outputs": [],
   "source": [
    "oracle = Circuit(5+1)\n",
    "oracle.add(gates.X(oracle.nqubits-1).controlled_by(*range(5)))"
   ]
  },
  {
   "cell_type": "code",
   "execution_count": 4,
   "metadata": {},
   "outputs": [],
   "source": [
    "def check_sol(result):\n",
    "    if all([int(i)==1 for i in result]):\n",
    "        return True\n",
    "    else:\n",
    "        return False"
   ]
  },
  {
   "cell_type": "code",
   "execution_count": 5,
   "metadata": {},
   "outputs": [],
   "source": [
    "g_exact = Grover(oracle, superposition=superposition, num_sol=1, check=check_sol)"
   ]
  },
  {
   "cell_type": "code",
   "execution_count": 6,
   "metadata": {},
   "outputs": [
    {
     "name": "stderr",
     "output_type": "stream",
     "text": [
      "[Qibo|INFO|2021-03-25 09:55:31]: Most common states found using Grover's algorithm with 4 iterations:\n",
      "[Qibo|INFO|2021-03-25 09:55:31]: 11111\n",
      "[Qibo|INFO|2021-03-25 09:55:31]: Solution checked and successful.\n"
     ]
    }
   ],
   "source": [
    "g_exact.execute()"
   ]
  },
  {
   "cell_type": "code",
   "execution_count": 8,
   "metadata": {},
   "outputs": [],
   "source": [
    "g_it = Grover(oracle, superposition=superposition, check=check_sol)"
   ]
  },
  {
   "cell_type": "code",
   "execution_count": 9,
   "metadata": {},
   "outputs": [
    {
     "name": "stderr",
     "output_type": "stream",
     "text": [
      "[Qibo|INFO|2021-03-25 09:55:47]: Solution found in an iterative process.\n",
      "[Qibo|INFO|2021-03-25 09:55:47]: Solution: 11111\n",
      "\n",
      "[Qibo|INFO|2021-03-25 09:55:47]: Total Grover iterations taken: 5\n"
     ]
    }
   ],
   "source": [
    "g_it.execute()"
   ]
  }
 ],
 "metadata": {
  "kernelspec": {
   "display_name": "Python 3",
   "language": "python",
   "name": "python3"
  },
  "language_info": {
   "codemirror_mode": {
    "name": "ipython",
    "version": 3
   },
   "file_extension": ".py",
   "mimetype": "text/x-python",
   "name": "python",
   "nbconvert_exporter": "python",
   "pygments_lexer": "ipython3",
   "version": "3.7.6"
  }
 },
 "nbformat": 4,
 "nbformat_minor": 4
}
