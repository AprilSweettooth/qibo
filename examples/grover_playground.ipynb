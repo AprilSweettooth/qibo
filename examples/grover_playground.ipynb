{
 "cells": [
  {
   "cell_type": "code",
   "execution_count": 1,
   "metadata": {},
   "outputs": [
    {
     "name": "stderr",
     "output_type": "stream",
     "text": [
      "[Qibo|WARNING|2021-03-31 14:00:20]: Custom operators not found, skipping custom operators load.\n",
      "[Qibo|WARNING|2021-03-31 14:00:20]: Removing custom operators from available backends.\n",
      "[Qibo|WARNING|2021-03-31 14:00:20]: Einsum will be used to apply gates with tensorflow.\n"
     ]
    }
   ],
   "source": [
    "from qibo.models import Circuit\n",
    "from qibo import gates\n",
    "import numpy as np\n",
    "from qibo.models import Grover"
   ]
  },
  {
   "cell_type": "code",
   "execution_count": 2,
   "metadata": {},
   "outputs": [],
   "source": [
    "superposition = Circuit(5)\n",
    "superposition.add([gates.H(i) for i in range(5)])"
   ]
  },
  {
   "cell_type": "code",
   "execution_count": 3,
   "metadata": {},
   "outputs": [],
   "source": [
    "oracle = Circuit(5+1)\n",
    "oracle.add(gates.X(oracle.nqubits-1).controlled_by(*range(5)))"
   ]
  },
  {
   "cell_type": "code",
   "execution_count": 4,
   "metadata": {},
   "outputs": [],
   "source": [
    "def check_sol(result):\n",
    "    if all([int(i)==1 for i in result]):\n",
    "        return True\n",
    "    else:\n",
    "        return False"
   ]
  },
  {
   "cell_type": "code",
   "execution_count": 5,
   "metadata": {},
   "outputs": [],
   "source": [
    "g_exact = Grover(oracle, superposition_circuit=superposition, number_solutions=1)"
   ]
  },
  {
   "cell_type": "code",
   "execution_count": 6,
   "metadata": {},
   "outputs": [
    {
     "name": "stderr",
     "output_type": "stream",
     "text": [
      "[Qibo|INFO|2021-03-31 14:00:20]: Result of sampling Grover's algorihm\n",
      "[Qibo|INFO|2021-03-31 14:00:20]: Counter({'11111': 100})\n",
      "[Qibo|INFO|2021-03-31 14:00:20]: Most common states found using Grover's algorithm with 4 iterations:\n",
      "[Qibo|INFO|2021-03-31 14:00:20]: 11111\n"
     ]
    },
    {
     "data": {
      "text/plain": [
       "(['11111'], 4)"
      ]
     },
     "execution_count": 6,
     "metadata": {},
     "output_type": "execute_result"
    }
   ],
   "source": [
    "g_exact.execute(freq=True)"
   ]
  },
  {
   "cell_type": "code",
   "execution_count": 7,
   "metadata": {},
   "outputs": [],
   "source": [
    "g_exact_2 = Grover(oracle, superposition_qubits=5, number_solutions=1, check=check_sol)"
   ]
  },
  {
   "cell_type": "code",
   "execution_count": 8,
   "metadata": {},
   "outputs": [
    {
     "name": "stderr",
     "output_type": "stream",
     "text": [
      "[Qibo|INFO|2021-03-31 14:00:20]: Most common states found using Grover's algorithm with 4 iterations:\n",
      "[Qibo|INFO|2021-03-31 14:00:20]: 11111\n",
      "[Qibo|INFO|2021-03-31 14:00:20]: Solution checked and successful.\n"
     ]
    },
    {
     "data": {
      "text/plain": [
       "(['11111'], 4)"
      ]
     },
     "execution_count": 8,
     "metadata": {},
     "output_type": "execute_result"
    }
   ],
   "source": [
    "g_exact_2.execute()"
   ]
  },
  {
   "cell_type": "code",
   "execution_count": 9,
   "metadata": {},
   "outputs": [],
   "source": [
    "g_it = Grover(oracle, superposition_circuit=superposition, check=check_sol)"
   ]
  },
  {
   "cell_type": "code",
   "execution_count": 10,
   "metadata": {},
   "outputs": [
    {
     "name": "stderr",
     "output_type": "stream",
     "text": [
      "[Qibo|INFO|2021-03-31 14:00:20]: Solution found in an iterative process.\n",
      "[Qibo|INFO|2021-03-31 14:00:20]: Solution: 11111\n",
      "[Qibo|INFO|2021-03-31 14:00:20]: Total Grover iterations taken: 1\n"
     ]
    },
    {
     "data": {
      "text/plain": [
       "('11111', 1)"
      ]
     },
     "execution_count": 10,
     "metadata": {},
     "output_type": "execute_result"
    }
   ],
   "source": [
    "g_it.execute()"
   ]
  },
  {
   "cell_type": "code",
   "execution_count": null,
   "metadata": {},
   "outputs": [],
   "source": []
  }
 ],
 "metadata": {
  "kernelspec": {
   "display_name": "Python 3",
   "language": "python",
   "name": "python3"
  },
  "language_info": {
   "codemirror_mode": {
    "name": "ipython",
    "version": 3
   },
   "file_extension": ".py",
   "mimetype": "text/x-python",
   "name": "python",
   "nbconvert_exporter": "python",
   "pygments_lexer": "ipython3",
   "version": "3.7.6"
  }
 },
 "nbformat": 4,
 "nbformat_minor": 4
}
