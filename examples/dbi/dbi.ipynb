{
 "cells": [
  {
   "cell_type": "markdown",
   "id": "cb748c1a-2ecd-44a2-91d8-c1255a00615b",
   "metadata": {},
   "source": [
    "## Double-Bracket Iteration diagonalization algorithm\n",
    "\n",
    "In this example we present the `Qibo`'s implementation of the Double-Bracket Iteration (DBI) algorithm, which can be used to prepare the eigenstates of a quantum system. \n",
    "\n",
    "#### The initial setup\n",
    "\n",
    "At first we import some useful packages."
   ]
  },
  {
   "cell_type": "code",
   "execution_count": null,
   "id": "e1f362b8-eb73-456e-ae48-94c5f2a12649",
   "metadata": {},
   "outputs": [],
   "source": [
    "!python -m pip install seaborn # plotting library\n",
    "!python -m pip install hyperopt # required to optimize the DBF step"
   ]
  },
  {
   "cell_type": "code",
   "execution_count": null,
   "id": "f270b1ea-ee6a-4eac-a0ff-3d7dae296cf0",
   "metadata": {},
   "outputs": [],
   "source": [
    "from copy import deepcopy\n",
    "\n",
    "import numpy as np\n",
    "import matplotlib.pyplot as plt\n",
    "import seaborn as sns\n",
    "\n",
    "from hyperopt import hp, tpe\n",
    "\n",
    "from qibo import hamiltonians, set_backend\n",
    "from qibo.models.dbi.double_bracket import DoubleBracketGeneratorType, DoubleBracketIteration"
   ]
  },
  {
   "cell_type": "markdown",
   "id": "ba6e5402-ea34-4979-bb79-fd395567f77d",
   "metadata": {},
   "source": [
    "Here we define a simple plotting function useful to keep track of the diagonalization process."
   ]
  },
  {
   "cell_type": "code",
   "execution_count": null,
   "id": "4aec7b46-19b9-4004-93c0-a90255e58fd9",
   "metadata": {},
   "outputs": [],
   "source": [
    "def visualize_matrix(matrix, title=\"\"):\n",
    "    \"\"\"Visualize hamiltonian in a heatmap form.\"\"\"\n",
    "    fig, ax = plt.subplots(figsize=(5,5))\n",
    "    ax.set_title(title)\n",
    "    try:\n",
    "        im = ax.imshow(np.absolute(matrix), cmap=\"inferno\")\n",
    "    except TypeError:\n",
    "        im = ax.imshow(np.absolute(matrix.get()), cmap=\"inferno\")\n",
    "    fig.colorbar(im, ax=ax)\n",
    "\n",
    "def visualize_drift(h0, h):\n",
    "    \"\"\"Visualize drift of the evolved hamiltonian w.r.t. h0.\"\"\"\n",
    "    fig, ax = plt.subplots(figsize=(5,5))\n",
    "    ax.set_title(r\"Drift: $|\\hat{H}_0 - \\hat{H}_{\\ell}|$\")\n",
    "    try:\n",
    "        im = ax.imshow(np.absolute(h0 - h), cmap=\"inferno\")\n",
    "    except TypeError:\n",
    "        im = ax.imshow(np.absolute((h0 - h).get()), cmap=\"inferno\")\n",
    "\n",
    "    fig.colorbar(im, ax=ax)\n",
    "\n",
    "def plot_histories(histories, labels):\n",
    "    \"\"\"Plot off-diagonal norm histories over a sequential evolution.\"\"\"\n",
    "    colors = sns.color_palette(\"inferno\", n_colors=len(histories)).as_hex()\n",
    "    plt.figure(figsize=(5,5*6/8))\n",
    "    for i, (h, l) in enumerate(zip(histories, labels)):\n",
    "        plt.plot(h, lw=2, color=colors[i], label=l, marker='.')\n",
    "    plt.legend()\n",
    "    plt.xlabel(\"Iterations\")\n",
    "    plt.ylabel(r\"$\\| \\sigma(\\hat{H}) \\|^2$\")\n",
    "    plt.title(\"Loss function histories\")\n",
    "    plt.grid(True)\n",
    "    plt.show()"
   ]
  },
  {
   "cell_type": "markdown",
   "id": "9f4cd7cc-9952-4da4-baef-e916300a9365",
   "metadata": {},
   "source": [
    "We need to define a target hamiltonian which we aim to diagonalize. As an example, we consider the Transverse Field Ising Model (TFIM):\n",
    "$$ H_{\\rm TFIM} = - \\sum_{q=0}^{N}\\bigl( Z_i Z_{i+1} + h X_i \\bigr),$$\n",
    "which is already implemented in `Qibo`. For this tutorial we set $N=6$ and $h=3$."
   ]
  },
  {
   "cell_type": "code",
   "execution_count": null,
   "id": "2c4ed408-68ed-4054-825c-2a7df0979a4f",
   "metadata": {},
   "outputs": [],
   "source": [
    "# set the qibo backend (we suggest qibojit if N >= 20)\n",
    "set_backend(\"qibojit\", \"numba\")\n",
    "\n",
    "# hamiltonian parameters\n",
    "nqubits = 5\n",
    "h = 3\n",
    "\n",
    "# define the hamiltonian\n",
    "h = hamiltonians.TFIM(nqubits=nqubits, h=h)\n",
    "\n",
    "# vosualize the matrix\n",
    "visualize_matrix(h.matrix, title=\"Target hamiltonian\")"
   ]
  },
  {
   "cell_type": "markdown",
   "id": "4794e779-bf2d-4ab5-97ce-f876d9522a35",
   "metadata": {},
   "source": [
    "#### The generator of the evolution\n",
    "\n",
    "The model is implemented following the procedure presented in [1], and the first practical step is to define the generator of the iteration $\\hat{\\mathcal{U}}_{\\ell}$, which executes one diagonalization step $$\\hat{H}_{\\ell} = \\hat{\\mathcal{U}}_{\\ell}^{\\dagger} \\hat{H} \\hat{\\mathcal{U}}_{\\ell}.$$\n",
    "In `Qibo`, we define the iteration type through a `DoubleBracketGeneratorType` object, which can be chosen between one of the following:\n",
    "- `canonical`: the generator of the iteration at step $k+1$ is defined using the commutator between the off diagonal part $\\sigma(\\hat{H_k})$ and the diagonal part $\\Delta(\\hat{H}_k)$ of the target evolved hamiltonian:\n",
    "  $$\\hat{\\mathcal{U}}_{k+1}=\\exp\\bigl\\{s[\\Delta(\\hat{H}_k), \\sigma(\\hat{H}_k)]\\bigr\\}.$$ \n",
    "- `single_commutator`: the evolution follows a similar procedure of the previous point in this list, but any additional matrix $D_k$ can be used to control the evolution at each step:\n",
    "    $$ \\hat{\\mathcal{U}}_{k+1}=\\exp\\bigl\\{s[D_k, \\hat{H}_k]\\bigr\\}. $$\n",
    "- `group_commutator`: the following group commutator is used to compute the evolution:\n",
    "  $$  \\hat{\\mathcal{U}}_{k+1}= e^{is\\hat{H_k}} e^{isD_k} e^{-is\\hat{H_k}} e^{-isD_k}, $$\n",
    "which approximates the canonical commutator for small $s$.\n",
    "\n",
    "In order to set one of this evolution generators one can do as follow:"
   ]
  },
  {
   "cell_type": "code",
   "execution_count": null,
   "id": "26a487e9-366b-4203-b660-e3d4af2bcb68",
   "metadata": {},
   "outputs": [],
   "source": [
    "# we have a look inside the DoubleBracketGeneratorType class\n",
    "for generator in DoubleBracketGeneratorType:\n",
    "    print(generator)"
   ]
  },
  {
   "cell_type": "code",
   "execution_count": null,
   "id": "da8dce89-27f6-403d-982a-58d531fade48",
   "metadata": {},
   "outputs": [],
   "source": [
    "# here we set the canonical generator\n",
    "generatortype = DoubleBracketGeneratorType.canonical"
   ]
  },
  {
   "cell_type": "markdown",
   "id": "fc4f9f75-0548-4533-a13c-3aba3191e608",
   "metadata": {},
   "source": [
    "#### The `DoubleBracketIteration` class\n",
    "\n",
    "A `DoubleBracketIteration` object can be initialize by calling the `qibo.models.double_braket.DoubleBracketIteration` model and passing the target hamiltonian and the generator type we want to use to perform the evolutionary steps."
   ]
  },
  {
   "cell_type": "code",
   "execution_count": null,
   "id": "055870ec-55f2-4b99-a622-e3aa4c7dd0e9",
   "metadata": {},
   "outputs": [],
   "source": [
    "dbf = DoubleBracketIteration(hamiltonian=deepcopy(h), mode=generatortype)"
   ]
  },
  {
   "cell_type": "markdown",
   "id": "b38cf803-60b4-467a-be8e-cbad5d81f14a",
   "metadata": {},
   "source": [
    "#### `DoubleBracketIteration` features"
   ]
  },
  {
   "cell_type": "code",
   "execution_count": null,
   "id": "9e278c3d-9f34-4a40-b453-4e030c751ef5",
   "metadata": {},
   "outputs": [],
   "source": [
    "# on which qibo backend am I running the algorithm?\n",
    "print(f\"Backend: {dbf.backend}\")"
   ]
  },
  {
   "cell_type": "code",
   "execution_count": null,
   "id": "5b8e142b-a0a2-41bd-a16a-265a420b7360",
   "metadata": {},
   "outputs": [],
   "source": [
    "# the initial target hamiltonian is a qibo hamiltonian\n",
    "# thus the matrix can be accessed typing h.matrix\n",
    "print(f\"Initial form of the target hamiltonian:\\n{dbf.h0.matrix}\")"
   ]
  },
  {
   "cell_type": "code",
   "execution_count": null,
   "id": "4f9d1d41-3df7-49cf-96ca-fa1019c00c33",
   "metadata": {},
   "outputs": [],
   "source": [
    "# let's visualize it in a more graphical way\n",
    "visualize_matrix(dbf.h0.matrix, r\"$H_0$\")"
   ]
  },
  {
   "cell_type": "code",
   "execution_count": null,
   "id": "7b864712-219c-44b6-8337-19ef0100e318",
   "metadata": {},
   "outputs": [],
   "source": [
    "# since we didn't perform yet any evolutionary step they are the same\n",
    "visualize_drift(dbf.h0.matrix, dbf.h.matrix)"
   ]
  },
  {
   "cell_type": "markdown",
   "id": "5e576bc4-4e79-4c71-9ea0-b3012e9f2ba1",
   "metadata": {},
   "source": [
    "which shows $\\hat{H}$ is now identical to $\\hat{H}_0$ since no evolution step has been performed yet."
   ]
  },
  {
   "cell_type": "code",
   "execution_count": null,
   "id": "da3d3aaa-17e1-492e-bcd3-b510f44a5391",
   "metadata": {},
   "outputs": [],
   "source": [
    "# diagonal part of the H target\n",
    "visualize_matrix(dbf.diagonal_h_matrix)"
   ]
  },
  {
   "cell_type": "code",
   "execution_count": null,
   "id": "24d0dfa1-7039-4d7d-8aa3-5a937b9ab0b8",
   "metadata": {},
   "outputs": [],
   "source": [
    "# Hilbert-Schmidt norm of the off-diagonal part\n",
    "# which we want to bring to be close to zero\n",
    "print(f\"HS norm of the off diagonal part of H: {dbf.off_diagonal_norm}\")"
   ]
  },
  {
   "cell_type": "markdown",
   "id": "d75e35ab-66f4-49f9-af19-679c20065a11",
   "metadata": {},
   "source": [
    "Finally, the energy fluctuation of the system at step $k$ over a given state $\\mu$\n",
    "\n",
    "$$ \\Xi(\\mu) = \\sqrt{\\langle \\mu | \\hat{H}_k^2 | \\mu \\rangle - \\langle \\mu | \\hat{H}_k | \\mu \\rangle^2} $$\n",
    "\n",
    "can be computed:"
   ]
  },
  {
   "cell_type": "code",
   "execution_count": null,
   "id": "95f8d86f-07d4-498c-acb1-f6f6a4614c24",
   "metadata": {},
   "outputs": [],
   "source": [
    "# define a quantum state\n",
    "# for example the ground state of a multi-qubit Z hamiltonian\n",
    "Z = hamiltonians.Z(nqubits=nqubits)\n",
    "state = Z.ground_state()\n",
    "\n",
    "# compute energy fluctuations using current H and given state\n",
    "dbf.energy_fluctuation(state)"
   ]
  },
  {
   "cell_type": "markdown",
   "id": "3d5b37f3-2477-49a0-9f80-7da5ddda1fff",
   "metadata": {},
   "source": [
    "#### Call the `DoubleBracketIteration` to perform a DBF iteration\n",
    "\n",
    "If the DBF object is called, a Double Bracket Iteration iteration is performed. This can be done customizing the iteration by setting the iteration step and the desired `DoubleBracketGeneratorType`. If no generator is provided, the one passed at the initialization time is used (default is `DoubleBracketGeneratorType.canonical`)."
   ]
  },
  {
   "cell_type": "code",
   "execution_count": null,
   "id": "9a886261-8aa6-4df0-a31b-9c39847db124",
   "metadata": {},
   "outputs": [],
   "source": [
    "# perform one evolution step\n",
    "\n",
    "# initial value of the off-diagonal norm\n",
    "print(f\"Initial value of the off-diagonal norm: {dbf.off_diagonal_norm}\")\n",
    "\n",
    "dbf(step=0.01, mode=generatortype)\n",
    "\n",
    "# after one step\n",
    "print(f\"One step later off-diagonal norm: {dbf.off_diagonal_norm}\")"
   ]
  },
  {
   "cell_type": "markdown",
   "id": "b78dd05d-ffe3-435a-b5ec-2a42f28066b2",
   "metadata": {},
   "source": [
    "We can check now if something happened by plotting the drift:"
   ]
  },
  {
   "cell_type": "code",
   "execution_count": null,
   "id": "cc74812d-7c2c-44e4-afc2-e235968801b4",
   "metadata": {},
   "outputs": [],
   "source": [
    "visualize_drift(dbf.h0.matrix, dbf.h.matrix)"
   ]
  },
  {
   "cell_type": "markdown",
   "id": "3465a422-eebf-4e80-ae96-bba894132330",
   "metadata": {},
   "source": [
    "The set step can be good, but maybe not the best one. In order to do this choice in a wiser way, we can call the DBF hyperoptimization routine to search for a better initial step. The `dbf.hyperopt_step` method is built on top of the [`hyperopt`](https://hyperopt.github.io/hyperopt/) package. Any algorithm or sampling space provided by the official package can be used. We are going to use the default options (we sample new steps from a uniform space following a _Tree of Parzen estimators algorithm_)."
   ]
  },
  {
   "cell_type": "code",
   "execution_count": null,
   "id": "aad79966-7a11-4a45-aba5-4a4bb8315c50",
   "metadata": {},
   "outputs": [],
   "source": [
    "# restart\n",
    "dbf.h = dbf.h0\n",
    "\n",
    "# optimization of the step, we allow to search in [1e-5, 1]\n",
    "step = dbf.hyperopt_step(\n",
    "    step_min = 1e-5,\n",
    "    step_max = 1,\n",
    "    space = hp.uniform,\n",
    "    optimizer = tpe,\n",
    "    max_evals = 1000,\n",
    "    verbose = True\n",
    ")"
   ]
  },
  {
   "cell_type": "code",
   "execution_count": null,
   "id": "49483a47-d29d-440e-a4bc-143bfe6bb3cf",
   "metadata": {},
   "outputs": [],
   "source": [
    "visualize_matrix(dbf.h.matrix)"
   ]
  },
  {
   "cell_type": "code",
   "execution_count": null,
   "id": "6bdaf7f9-7e49-4a16-8b29-ae1f9746cd9b",
   "metadata": {},
   "outputs": [],
   "source": [
    "visualize_drift(dbf.h0.matrix, dbf.h.matrix)"
   ]
  },
  {
   "cell_type": "markdown",
   "id": "b5f1d00e-e763-40d9-822f-e0e8d4c57d9a",
   "metadata": {},
   "source": [
    "#### Let's evolve the model for `NSTEPS`\n",
    "\n",
    "We know recover the initial hamiltonian, and we perform a sequence of DBF iteration steps, in order to show how this mechanism can lead to a proper diagonalization of the target hamiltonian.\n",
    "\n",
    "#### Method 1: fixed step"
   ]
  },
  {
   "cell_type": "code",
   "execution_count": null,
   "id": "59a6a485-a714-4e14-b27a-1df2930068ee",
   "metadata": {},
   "outputs": [],
   "source": [
    "# restart\n",
    "dbf_1 = DoubleBracketIteration(hamiltonian=deepcopy(h), mode=generatortype)\n",
    "off_diagonal_norm_history = [dbf_1.off_diagonal_norm]\n",
    "histories, labels = [], [\"Fixed step\"]\n",
    "\n",
    "# set the number of evolution steps\n",
    "NSTEPS = 20\n",
    "step = 0.005\n",
    "\n",
    "for s in range(NSTEPS):\n",
    "    dbf_1(step=step)\n",
    "    off_diagonal_norm_history.append(dbf_1.off_diagonal_norm)\n",
    "\n",
    "histories.append(off_diagonal_norm_history)"
   ]
  },
  {
   "cell_type": "code",
   "execution_count": null,
   "id": "7e0b2f18-ca53-4f34-9fcf-0052dcc31dc5",
   "metadata": {},
   "outputs": [],
   "source": [
    "plot_histories(histories, labels)"
   ]
  },
  {
   "cell_type": "markdown",
   "id": "eb797d6c-0eba-4da4-b492-8b5d70f9123f",
   "metadata": {},
   "source": [
    "#### Method 2: optimizing the step"
   ]
  },
  {
   "cell_type": "code",
   "execution_count": null,
   "id": "a6fd1e33-3620-4f3b-b705-a120f6da0027",
   "metadata": {},
   "outputs": [],
   "source": [
    "# restart\n",
    "dbf_2 = DoubleBracketIteration(hamiltonian=deepcopy(h), mode=generatortype)\n",
    "off_diagonal_norm_history = [dbf_2.off_diagonal_norm]\n",
    "\n",
    "# set the number of evolution steps\n",
    "NSTEPS = 20\n",
    "\n",
    "# optimize first step\n",
    "step = dbf_2.hyperopt_step(\n",
    "    step_min = 1e-5,\n",
    "    step_max = 1,\n",
    "    space = hp.uniform,\n",
    "    optimizer = tpe,\n",
    "    max_evals = 500,\n",
    "    verbose = True\n",
    ")\n",
    "\n",
    "for s in range(NSTEPS):\n",
    "    if s != 0:\n",
    "        step = dbf_2.hyperopt_step(\n",
    "            step_min = 1e-5,\n",
    "            step_max = 1,\n",
    "            space = hp.uniform,\n",
    "            optimizer = tpe,\n",
    "            max_evals = 100,\n",
    "        )\n",
    "        print(f\"New optimized step at iteration {s}/{NSTEPS}: {step}\")\n",
    "    dbf_2(step=step)\n",
    "    off_diagonal_norm_history.append(dbf_2.off_diagonal_norm)\n",
    "\n",
    "histories.append(off_diagonal_norm_history)\n",
    "labels.append(\"Optimizing step\")"
   ]
  },
  {
   "cell_type": "code",
   "execution_count": null,
   "id": "0f0212bf-b642-4fea-9203-037876e0b266",
   "metadata": {},
   "outputs": [],
   "source": [
    "plot_histories(histories, labels)"
   ]
  },
  {
   "cell_type": "markdown",
   "id": "32341937-4178-41d2-a10e-5e4d2634098e",
   "metadata": {},
   "source": [
    "The hyperoptimization can lead to a faster convergence of the algorithm."
   ]
  },
  {
   "cell_type": "code",
   "execution_count": null,
   "id": "82b89092-07e5-4788-9ae0-8907df2428eb",
   "metadata": {},
   "outputs": [],
   "source": [
    "visualize_matrix(dbf_1.h.matrix)"
   ]
  },
  {
   "cell_type": "code",
   "execution_count": null,
   "id": "ac8ed320-04a8-42af-a980-48ab4f1fff7c",
   "metadata": {},
   "outputs": [],
   "source": [
    "visualize_matrix(dbf_2.h.matrix)"
   ]
  },
  {
   "cell_type": "code",
   "execution_count": null,
   "id": "685ca784",
   "metadata": {},
   "outputs": [],
   "source": []
  }
 ],
 "metadata": {
  "kernelspec": {
   "display_name": "Python 3 (ipykernel)",
   "language": "python",
   "name": "python3"
  },
  "language_info": {
   "codemirror_mode": {
    "name": "ipython",
    "version": 3
   },
   "file_extension": ".py",
   "mimetype": "text/x-python",
   "name": "python",
   "nbconvert_exporter": "python",
   "pygments_lexer": "ipython3",
   "version": "3.10.0"
  }
 },
 "nbformat": 4,
 "nbformat_minor": 5
}
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",
      "text/plain": [
       "<Figure size 500x500 with 2 Axes>"
      ]
     },
     "metadata": {},
     "output_type": "display_data"
    }
   ],
   "source": [
    "# set the qibo backend (we suggest qibojit if N >= 20)\n",
    "# Alternatives: tensorflow (not optimized), numpy (when CPU not supported by jit)\n",
    "set_backend(\"qibojit\", \"numba\")\n",
    "\n",
    "# hamiltonian parameters\n",
    "nqubits = 5\n",
    "h = 3\n",
    "\n",
    "# define the hamiltonian\n",
    "h = hamiltonians.TFIM(nqubits=nqubits, h=h)\n",
    "\n",
    "# vosualize the matrix\n",
    "visualize_matrix(h.matrix, title=\"Target hamiltonian\")"
   ]
  },
  {
   "cell_type": "markdown",
   "id": "4794e779-bf2d-4ab5-97ce-f876d9522a35",
   "metadata": {},
   "source": [
    "#### The generator of the evolution\n",
    "\n",
    "The model is implemented following the procedure presented in [1], and the first practical step is to define the generator of the iteration $\\hat{\\mathcal{U}}_{\\ell}$, which executes one diagonalization step $$\\hat{H}_{\\ell} = \\hat{\\mathcal{U}}_{\\ell}^{\\dagger} \\hat{H} \\hat{\\mathcal{U}}_{\\ell}.$$\n",
    "In `Qibo`, we define the iteration type through a `DoubleBracketGeneratorType` object, which can be chosen between one of the following:\n",
    "- `canonical`: the generator of the iteration at step $k+1$ is defined using the commutator between the off diagonal part $\\sigma(\\hat{H_k})$ and the diagonal part $\\Delta(\\hat{H}_k)$ of the target evolved hamiltonian:\n",
    "  $$\\hat{\\mathcal{U}}_{k+1}=\\exp\\bigl\\{s[\\Delta(\\hat{H}_k), \\sigma(\\hat{H}_k)]\\bigr\\}.$$ \n",
    "- `single_commutator`: the evolution follows a similar procedure of the previous point in this list, but any additional matrix $D_k$ can be used to control the evolution at each step:\n",
    "    $$ \\hat{\\mathcal{U}}_{k+1}=\\exp\\bigl\\{s[D_k, \\hat{H}_k]\\bigr\\}. $$\n",
    "- `group_commutator`: the following group commutator is used to compute the evolution:\n",
    "  $$  \\hat{\\mathcal{U}}_{k+1}= e^{is\\hat{H_k}} e^{isD_k} e^{-is\\hat{H_k}} e^{-isD_k}, $$\n",
    "which approximates the canonical commutator for small $s$.\n",
    "\n",
    "In order to set one of this evolution generators one can do as follow:"
   ]
  },
  {
   "cell_type": "code",
   "execution_count": 4,
   "id": "26a487e9-366b-4203-b660-e3d4af2bcb68",
   "metadata": {},
   "outputs": [
    {
     "name": "stdout",
     "output_type": "stream",
     "text": [
      "DoubleBracketGeneratorType.canonical\n",
      "DoubleBracketGeneratorType.single_commutator\n",
      "DoubleBracketGeneratorType.group_commutator\n"
     ]
    }
   ],
   "source": [
    "# we have a look inside the DoubleBracketGeneratorType class\n",
    "for generator in DoubleBracketGeneratorType:\n",
    "    print(generator)"
   ]
  },
  {
   "cell_type": "code",
   "execution_count": 5,
   "id": "da8dce89-27f6-403d-982a-58d531fade48",
   "metadata": {},
   "outputs": [],
   "source": [
    "# here we set the canonical generator\n",
    "generatortype = DoubleBracketGeneratorType.canonical"
   ]
  },
  {
   "cell_type": "markdown",
   "id": "fc4f9f75-0548-4533-a13c-3aba3191e608",
   "metadata": {},
   "source": [
    "#### The `DoubleBracketIteration` class\n",
    "\n",
    "A `DoubleBracketIteration` object can be initialize by calling the `qibo.models.double_braket.DoubleBracketIteration` model and passing the target hamiltonian and the generator type we want to use to perform the evolutionary steps."
   ]
  },
  {
   "cell_type": "code",
   "execution_count": 6,
   "id": "055870ec-55f2-4b99-a622-e3aa4c7dd0e9",
   "metadata": {},
   "outputs": [],
   "source": [
    "dbf = DoubleBracketIteration(hamiltonian=deepcopy(h), mode=generatortype)"
   ]
  },
  {
   "cell_type": "markdown",
   "id": "b38cf803-60b4-467a-be8e-cbad5d81f14a",
   "metadata": {},
   "source": [
    "#### `DoubleBracketIteration` features"
   ]
  },
  {
   "cell_type": "code",
   "execution_count": 7,
   "id": "9e278c3d-9f34-4a40-b453-4e030c751ef5",
   "metadata": {},
   "outputs": [
    {
     "name": "stdout",
     "output_type": "stream",
     "text": [
      "Backend: qibojit (numba)\n"
     ]
    }
   ],
   "source": [
    "# on which qibo backend am I running the algorithm?\n",
    "print(f\"Backend: {dbf.backend}\")"
   ]
  },
  {
   "cell_type": "code",
   "execution_count": 10,
   "id": "5b8e142b-a0a2-41bd-a16a-265a420b7360",
   "metadata": {},
   "outputs": [
    {
     "name": "stdout",
     "output_type": "stream",
     "text": [
      "Initial form of the target hamiltonian:\n",
      "[[-5.-0.j -3.-0.j -3.-0.j ... -0.-0.j -0.-0.j -0.-0.j]\n",
      " [-3.-0.j -1.-0.j -0.-0.j ... -0.-0.j -0.-0.j -0.-0.j]\n",
      " [-3.-0.j -0.-0.j -1.-0.j ... -0.-0.j -0.-0.j -0.-0.j]\n",
      " ...\n",
      " [-0.-0.j -0.-0.j -0.-0.j ... -1.-0.j -0.-0.j -3.-0.j]\n",
      " [-0.-0.j -0.-0.j -0.-0.j ... -0.-0.j -1.-0.j -3.-0.j]\n",
      " [-0.-0.j -0.-0.j -0.-0.j ... -3.-0.j -3.-0.j -5.-0.j]]\n"
     ]
    }
   ],
   "source": [
    "# the initial target hamiltonian is a qibo hamiltonian\n",
    "# thus the matrix can be accessed typing h.matrix\n",
    "print(f\"Initial form of the target hamiltonian:\\n{dbf.h0.matrix}\")"
   ]
  },
  {
   "cell_type": "code",
   "execution_count": 11,
   "id": "4f9d1d41-3df7-49cf-96ca-fa1019c00c33",
   "metadata": {},
   "outputs": [
    {
     "data": {
      "image/png": "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",
      "text/plain": [
       "<Figure size 500x500 with 2 Axes>"
      ]
     },
     "metadata": {},
     "output_type": "display_data"
    }
   ],
   "source": [
    "# let's visualize it in a more graphical way\n",
    "visualize_matrix(dbf.h0.matrix, r\"$H_0$\")"
   ]
  },
  {
   "cell_type": "code",
   "execution_count": 12,
   "id": "7b864712-219c-44b6-8337-19ef0100e318",
   "metadata": {},
   "outputs": [
    {
     "data": {
      "image/png": "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",
      "text/plain": [
       "<Figure size 500x500 with 2 Axes>"
      ]
     },
     "metadata": {},
     "output_type": "display_data"
    }
   ],
   "source": [
    "# since we didn't perform yet any evolutionary step they are the same\n",
    "visualize_drift(dbf.h0.matrix, dbf.h.matrix)"
   ]
  },
  {
   "cell_type": "markdown",
   "id": "5e576bc4-4e79-4c71-9ea0-b3012e9f2ba1",
   "metadata": {},
   "source": [
    "which shows $\\hat{H}$ is now identical to $\\hat{H}_0$ since no evolution step has been performed yet."
   ]
  },
  {
   "cell_type": "code",
   "execution_count": 13,
   "id": "da3d3aaa-17e1-492e-bcd3-b510f44a5391",
   "metadata": {},
   "outputs": [
    {
     "data": {
      "image/png": "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",
      "text/plain": [
       "<Figure size 500x500 with 2 Axes>"
      ]
     },
     "metadata": {},
     "output_type": "display_data"
    }
   ],
   "source": [
    "# diagonal part of the H target\n",
    "visualize_matrix(dbf.diagonal_h_matrix)"
   ]
  },
  {
   "cell_type": "code",
   "execution_count": 14,
   "id": "24d0dfa1-7039-4d7d-8aa3-5a937b9ab0b8",
   "metadata": {},
   "outputs": [
    {
     "name": "stdout",
     "output_type": "stream",
     "text": [
      "HS norm of the off diagonal part of H: 1440.0\n"
     ]
    }
   ],
   "source": [
    "# Hilbert-Schmidt norm of the off-diagonal part\n",
    "# which we want to bring to be close to zero\n",
    "print(f\"HS norm of the off diagonal part of H: {dbf.off_diagonal_norm}\")"
   ]
  },
  {
   "cell_type": "markdown",
   "id": "d75e35ab-66f4-49f9-af19-679c20065a11",
   "metadata": {},
   "source": [
    "Finally, the energy fluctuation of the system at step $k$ over a given state $\\mu$\n",
    "\n",
    "$$ \\Xi(\\mu) = \\sqrt{\\langle \\mu | \\hat{H}_k^2 | \\mu \\rangle - \\langle \\mu | \\hat{H}_k | \\mu \\rangle^2} $$\n",
    "\n",
    "can be computed:"
   ]
  },
  {
   "cell_type": "code",
   "execution_count": 15,
   "id": "95f8d86f-07d4-498c-acb1-f6f6a4614c24",
   "metadata": {},
   "outputs": [
    {
     "data": {
      "text/plain": [
       "6.708203932499369"
      ]
     },
     "execution_count": 15,
     "metadata": {},
     "output_type": "execute_result"
    }
   ],
   "source": [
    "# define a quantum state\n",
    "# for example the ground state of a multi-qubit Z hamiltonian\n",
    "Z = hamiltonians.Z(nqubits=nqubits)\n",
    "state = Z.ground_state()\n",
    "\n",
    "# compute energy fluctuations using current H and given state\n",
    "dbf.energy_fluctuation(state)"
   ]
  },
  {
   "cell_type": "markdown",
   "id": "3d5b37f3-2477-49a0-9f80-7da5ddda1fff",
   "metadata": {},
   "source": [
    "#### Call the `DoubleBracketIteration` to perform a DBF iteration\n",
    "\n",
    "If the DBF object is called, a Double Bracket Iteration iteration is performed. This can be done customizing the iteration by setting the iteration step and the desired `DoubleBracketGeneratorType`. If no generator is provided, the one passed at the initialization time is used (default is `DoubleBracketGeneratorType.canonical`)."
   ]
  },
  {
   "cell_type": "code",
   "execution_count": 16,
   "id": "9a886261-8aa6-4df0-a31b-9c39847db124",
   "metadata": {},
   "outputs": [
    {
     "name": "stdout",
     "output_type": "stream",
     "text": [
      "Initial value of the off-diagonal norm: 1440.0\n",
      "One step later off-diagonal norm: 1168.2530943739994\n"
     ]
    }
   ],
   "source": [
    "# perform one evolution step\n",
    "\n",
    "# initial value of the off-diagonal norm\n",
    "print(f\"Initial value of the off-diagonal norm: {dbf.off_diagonal_norm}\")\n",
    "\n",
    "dbf(step=0.01, mode=generatortype)\n",
    "\n",
    "# after one step\n",
    "print(f\"One step later off-diagonal norm: {dbf.off_diagonal_norm}\")"
   ]
  },
  {
   "cell_type": "markdown",
   "id": "b78dd05d-ffe3-435a-b5ec-2a42f28066b2",
   "metadata": {},
   "source": [
    "We can check now if something happened by plotting the drift:"
   ]
  },
  {
   "cell_type": "code",
   "execution_count": 17,
   "id": "cc74812d-7c2c-44e4-afc2-e235968801b4",
   "metadata": {},
   "outputs": [
    {
     "data": {
      "image/png": "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",
      "text/plain": [
       "<Figure size 500x500 with 2 Axes>"
      ]
     },
     "metadata": {},
     "output_type": "display_data"
    }
   ],
   "source": [
    "visualize_drift(dbf.h0.matrix, dbf.h.matrix)"
   ]
  },
  {
   "cell_type": "markdown",
   "id": "3465a422-eebf-4e80-ae96-bba894132330",
   "metadata": {},
   "source": [
    "The set step can be good, but maybe not the best one. In order to do this choice in a wiser way, we can call the DBF hyperoptimization routine to search for a better initial step. The `dbf.hyperopt_step` method is built on top of the [`hyperopt`](https://hyperopt.github.io/hyperopt/) package. Any algorithm or sampling space provided by the official package can be used. We are going to use the default options (we sample new steps from a uniform space following a _Tree of Parzen estimators algorithm_)."
   ]
  },
  {
   "cell_type": "code",
   "execution_count": 20,
   "id": "aad79966-7a11-4a45-aba5-4a4bb8315c50",
   "metadata": {},
   "outputs": [
    {
     "name": "stdout",
     "output_type": "stream",
     "text": [
      "100%|██████████| 1000/1000 [00:03<00:00, 258.54trial/s, best loss: 1301.8618493572444]\n",
      "0.999959832862263\n"
     ]
    }
   ],
   "source": [
    "# restart\n",
    "dbf.h = dbf.h0\n",
    "\n",
    "# optimization of the step, we allow to search in [1e-5, 1]\n",
    "step = dbf.hyperopt_step(\n",
    "    step_min = 1e-5,\n",
    "    step_max = 1,\n",
    "    space = hp.uniform,\n",
    "    optimizer = tpe,\n",
    "    max_evals = 1000,\n",
    "    verbose = True\n",
    ")"
   ]
  },
  {
   "cell_type": "code",
   "execution_count": 22,
   "id": "49483a47-d29d-440e-a4bc-143bfe6bb3cf",
   "metadata": {},
   "outputs": [
    {
     "data": {
      "image/png": "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",
      "text/plain": [
       "<Figure size 500x500 with 2 Axes>"
      ]
     },
     "metadata": {},
     "output_type": "display_data"
    }
   ],
   "source": [
    "visualize_matrix(dbf.h.matrix)"
   ]
  },
  {
   "cell_type": "code",
   "execution_count": 23,
   "id": "6bdaf7f9-7e49-4a16-8b29-ae1f9746cd9b",
   "metadata": {},
   "outputs": [
    {
     "data": {
      "image/png": "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",
      "text/plain": [
       "<Figure size 500x500 with 2 Axes>"
      ]
     },
     "metadata": {},
     "output_type": "display_data"
    }
   ],
   "source": [
    "visualize_drift(dbf.h0.matrix, dbf.h.matrix)"
   ]
  },
  {
   "cell_type": "markdown",
   "id": "b5f1d00e-e763-40d9-822f-e0e8d4c57d9a",
   "metadata": {},
   "source": [
    "#### Let's evolve the model for `NSTEPS`\n",
    "\n",
    "We know recover the initial hamiltonian, and we perform a sequence of DBF iteration steps, in order to show how this mechanism can lead to a proper diagonalization of the target hamiltonian.\n",
    "\n",
    "#### Method 1: fixed step"
   ]
  },
  {
   "cell_type": "code",
   "execution_count": 24,
   "id": "59a6a485-a714-4e14-b27a-1df2930068ee",
   "metadata": {},
   "outputs": [],
   "source": [
    "# restart\n",
    "dbf_1 = DoubleBracketIteration(hamiltonian=deepcopy(h), mode=generatortype)\n",
    "off_diagonal_norm_history = [dbf_1.off_diagonal_norm]\n",
    "histories, labels = [], [\"Fixed step\"]\n",
    "\n",
    "# set the number of evolution steps\n",
    "NSTEPS = 20\n",
    "step = 0.005\n",
    "\n",
    "for s in range(NSTEPS):\n",
    "    dbf_1(step=step)\n",
    "    off_diagonal_norm_history.append(dbf_1.off_diagonal_norm)\n",
    "\n",
    "histories.append(off_diagonal_norm_history)"
   ]
  },
  {
   "cell_type": "code",
   "execution_count": 25,
   "id": "7e0b2f18-ca53-4f34-9fcf-0052dcc31dc5",
   "metadata": {},
   "outputs": [
    {
     "data": {
      "image/png": "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",
      "text/plain": [
       "<Figure size 500x375 with 1 Axes>"
      ]
     },
     "metadata": {},
     "output_type": "display_data"
    }
   ],
   "source": [
    "plot_histories(histories, labels)"
   ]
  },
  {
   "cell_type": "markdown",
   "id": "eb797d6c-0eba-4da4-b492-8b5d70f9123f",
   "metadata": {},
   "source": [
    "#### Method 2: optimizing the step"
   ]
  },
  {
   "cell_type": "code",
   "execution_count": 26,
   "id": "a6fd1e33-3620-4f3b-b705-a120f6da0027",
   "metadata": {},
   "outputs": [
    {
     "name": "stdout",
     "output_type": "stream",
     "text": [
      "100%|██████████| 500/500 [00:01<00:00, 395.91trial/s, best loss: 830.741659158309] \n",
      "New optimized step at iteration 1/20: 0.01404582562364698\n",
      "New optimized step at iteration 2/20: 0.00482699842450417\n",
      "New optimized step at iteration 3/20: 0.007163610307149949\n",
      "New optimized step at iteration 4/20: 0.005723837311966835\n",
      "New optimized step at iteration 5/20: 0.010405764803590473\n",
      "New optimized step at iteration 6/20: 0.007528815620413614\n",
      "New optimized step at iteration 7/20: 0.007887770624463187\n",
      "New optimized step at iteration 8/20: 0.006301358802023468\n",
      "New optimized step at iteration 9/20: 0.009969449232968781\n",
      "New optimized step at iteration 10/20: 0.006765387147882551\n",
      "New optimized step at iteration 11/20: 0.0058573752572720714\n",
      "New optimized step at iteration 12/20: 0.013901736820231686\n",
      "New optimized step at iteration 13/20: 0.0029898714608809357\n",
      "New optimized step at iteration 14/20: 0.025178568486685336\n",
      "New optimized step at iteration 15/20: 0.0028045604719951554\n",
      "New optimized step at iteration 16/20: 0.00300057233068024\n",
      "New optimized step at iteration 17/20: 0.000530435165988968\n",
      "New optimized step at iteration 18/20: 0.003916417493158211\n",
      "New optimized step at iteration 19/20: 0.0017852716197505059\n"
     ]
    }
   ],
   "source": [
    "# restart\n",
    "dbf_2 = DoubleBracketIteration(hamiltonian=deepcopy(h), mode=generatortype)\n",
    "off_diagonal_norm_history = [dbf_2.off_diagonal_norm]\n",
    "\n",
    "# set the number of evolution steps\n",
    "NSTEPS = 20\n",
    "\n",
    "# optimize first step\n",
    "step = dbf_2.hyperopt_step(\n",
    "    step_min = 1e-5,\n",
    "    step_max = 1,\n",
    "    space = hp.uniform,\n",
    "    optimizer = tpe,\n",
    "    max_evals = 500,\n",
    "    verbose = True\n",
    ")\n",
    "\n",
    "for s in range(NSTEPS):\n",
    "    if s != 0:\n",
    "        step = dbf_2.hyperopt_step(\n",
    "            step_min = 1e-5,\n",
    "            step_max = 1,\n",
    "            space = hp.uniform,\n",
    "            optimizer = tpe,\n",
    "            max_evals = 100,\n",
    "        )\n",
    "        print(f\"New optimized step at iteration {s}/{NSTEPS}: {step}\")\n",
    "    dbf_2(step=step)\n",
    "    off_diagonal_norm_history.append(dbf_2.off_diagonal_norm)\n",
    "\n",
    "histories.append(off_diagonal_norm_history)\n",
    "labels.append(\"Optimizing step\")"
   ]
  },
  {
   "cell_type": "code",
   "execution_count": 27,
   "id": "0f0212bf-b642-4fea-9203-037876e0b266",
   "metadata": {},
   "outputs": [
    {
     "data": {
      "image/png": "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",
      "text/plain": [
       "<Figure size 500x375 with 1 Axes>"
      ]
     },
     "metadata": {},
     "output_type": "display_data"
    }
   ],
   "source": [
    "plot_histories(histories, labels)"
   ]
  },
  {
   "cell_type": "markdown",
   "id": "32341937-4178-41d2-a10e-5e4d2634098e",
   "metadata": {},
   "source": [
    "The hyperoptimization can lead to a faster convergence of the algorithm."
   ]
  },
  {
   "cell_type": "code",
   "execution_count": null,
   "id": "82b89092-07e5-4788-9ae0-8907df2428eb",
   "metadata": {},
   "outputs": [],
   "source": [
    "visualize_matrix(dbf_1.h.matrix)"
   ]
  },
  {
   "cell_type": "code",
   "execution_count": null,
   "id": "ac8ed320-04a8-42af-a980-48ab4f1fff7c",
   "metadata": {},
   "outputs": [],
   "source": [
    "visualize_matrix(dbf_2.h.matrix)"
   ]
  }
 ],
 "metadata": {
  "kernelspec": {
   "display_name": "Python 3 (ipykernel)",
   "language": "python",
   "name": "python3"
  },
  "language_info": {
   "codemirror_mode": {
    "name": "ipython",
    "version": 3
   },
   "file_extension": ".py",
   "mimetype": "text/x-python",
   "name": "python",
   "nbconvert_exporter": "python",
   "pygments_lexer": "ipython3",
   "version": "3.11.5"
  }
 },
 "nbformat": 4,
 "nbformat_minor": 5
}
