{
 "cells": [
  {
   "cell_type": "markdown",
   "metadata": {},
   "source": [
    "# Double-Bracket Iteration Strategy: magnetic field (onsite Z)\n",
    "This notebook shows the diagonalization process of DBI using the magnetic field strategy, which varies the diagonal operator $D$ by gradient descent. To find the gradient with respect to $D$, parameterization of $D$ is required. For the purpose of this notebook, we represent it by onsite Pauli-Z operators, i.e.\n",
    "\n",
    "$$ D = \\sum \\alpha_i Z_i $$\n",
    "\n",
    "Note that it is also possible to have higher-order terms, such as $ D = \\sum \\alpha_i Z_i + \\sum \\beta_{i,j}Z_iZ_j+...$\n",
    "\n",
    "The gradients are calculated under the premise that the diagonalization gain curve can be fitted by a polynomial, and that the iteration step duration is taken at the first dip of the curve."
   ]
  },
  {
   "cell_type": "code",
   "execution_count": 1,
   "metadata": {},
   "outputs": [],
   "source": [
    "from copy import deepcopy\n",
    "\n",
    "import numpy as np\n",
    "import matplotlib.pyplot as plt\n",
    "\n",
    "from qibo import hamiltonians, set_backend\n",
    "from qibo.quantum_info import random_hermitian\n",
    "from qibo.models.dbi.double_bracket import DoubleBracketGeneratorType, DoubleBracketScheduling, DoubleBracketIteration\n",
    "from qibo.models.dbi.utils import *"
   ]
  },
  {
   "cell_type": "markdown",
   "metadata": {},
   "source": [
    "## Test on random Hamiltonian"
   ]
  },
  {
   "cell_type": "code",
   "execution_count": 2,
   "metadata": {},
   "outputs": [
    {
     "name": "stderr",
     "output_type": "stream",
     "text": [
      "OMP: Info #276: omp_set_nested routine deprecated, please use omp_set_max_active_levels instead.\n",
      "[Qibo 0.2.5|INFO|2024-02-22 08:22:59]: Using qibojit (numba) backend on /CPU:0\n"
     ]
    },
    {
     "name": "stdout",
     "output_type": "stream",
     "text": [
      "Initial off diagonal norm 31.576176740060667\n"
     ]
    }
   ],
   "source": [
    "# backend\n",
    "set_backend(\"qibojit\", \"numba\")\n",
    "# initialize dbi object\n",
    "nqubits = 5\n",
    "h0 = random_hermitian(2**nqubits, seed=2)\n",
    "dbi = DoubleBracketIteration(Hamiltonian(nqubits=nqubits, matrix=h0))\n",
    "print(\"Initial off diagonal norm\", dbi.off_diagonal_norm)"
   ]
  },
  {
   "cell_type": "code",
   "execution_count": 3,
   "metadata": {},
   "outputs": [
    {
     "name": "stderr",
     "output_type": "stream",
     "text": [
      "[Qibo 0.2.5|WARNING|2024-02-22 08:22:59]: Calculating the dense form of a symbolic Hamiltonian. This operation is memory inefficient.\n",
      "[Qibo 0.2.5|WARNING|2024-02-22 08:22:59]: Calculating the dense form of a symbolic Hamiltonian. This operation is memory inefficient.\n",
      "[Qibo 0.2.5|WARNING|2024-02-22 08:22:59]: Calculating the dense form of a symbolic Hamiltonian. This operation is memory inefficient.\n",
      "[Qibo 0.2.5|WARNING|2024-02-22 08:22:59]: Calculating the dense form of a symbolic Hamiltonian. This operation is memory inefficient.\n",
      "[Qibo 0.2.5|WARNING|2024-02-22 08:22:59]: Calculating the dense form of a symbolic Hamiltonian. This operation is memory inefficient.\n"
     ]
    },
    {
     "name": "stdout",
     "output_type": "stream",
     "text": [
      "The initial D coefficients: [(-0.2980910136757636+0j), (-0.17678355790937256+0j), (0.294550421681131+0j), (-0.2301056409534723+0j), (-0.07297191764284382+0j)]\n",
      "Gradient: [ 482.57311611  272.8003344  -526.64628147  420.97083752   47.09691378]\n",
      "s: 0.06953854599881942\n"
     ]
    },
    {
     "name": "stderr",
     "output_type": "stream",
     "text": [
      "/Users/pethidine/anaconda3/envs/DBF_qibo/lib/python3.11/site-packages/qibo/models/dbi/utils.py:228: ComplexWarning: Casting complex values to real discards the imaginary part\n",
      "  grad[i] = s**3/3*da + s**2/2*db + 2*s*dc + s**2*ds*a + s*ds*b+ 2*ds*c\n"
     ]
    }
   ],
   "source": [
    "# generate the onsite Z operators\n",
    "onsite_Z_ops = generate_onsite_Z_ops(nqubits)\n",
    "d_coef = onsite_Z_decomposition(dbi.h.matrix, onsite_Z_ops)\n",
    "d = sum([d_coef[i] * onsite_Z_ops[i] for i in range(nqubits)])\n",
    "grad, s = gradient_onsite_Z(dbi,d,3, onsite_Z_ops)\n",
    "print('The initial D coefficients:', d_coef)\n",
    "print('Gradient:', grad)\n",
    "print('s:', s)"
   ]
  },
  {
   "cell_type": "code",
   "execution_count": 4,
   "metadata": {},
   "outputs": [
    {
     "name": "stderr",
     "output_type": "stream",
     "text": [
      "/Users/pethidine/anaconda3/envs/DBF_qibo/lib/python3.11/site-packages/qibo/models/dbi/double_bracket.py:106: RuntimeWarning: overflow encountered in matmul\n",
      "  return a @ b - b @ a\n",
      "/Users/pethidine/anaconda3/envs/DBF_qibo/lib/python3.11/site-packages/qibo/models/dbi/double_bracket.py:106: RuntimeWarning: invalid value encountered in matmul\n",
      "  return a @ b - b @ a\n"
     ]
    }
   ],
   "source": [
    "iters = 30\n",
    "off_diagonal_norm_tot = [dbi.off_diagonal_norm]\n",
    "num_iters = []\n",
    "s_step = [0]\n",
    "for i in range(iters):\n",
    "    s, d_coef, d, off_diagonal_norm_history = gradient_descent_onsite_Z(dbi, d_coef, d, onsite_Z_ops=onsite_Z_ops, max_evals=100)\n",
    "    off_diagonal_norm_tot.append(off_diagonal_norm_history[-1])\n",
    "    num_iters.append(len(off_diagonal_norm_history))\n",
    "    s_step.append(s)"
   ]
  },
  {
   "cell_type": "code",
   "execution_count": 5,
   "metadata": {},
   "outputs": [
    {
     "data": {
      "text/plain": [
       "Text(0, 0.5, '$|| \\\\sigma(e^{sW}He^{-sW}) || $')"
      ]
     },
     "execution_count": 5,
     "metadata": {},
     "output_type": "execute_result"
    },
    {
     "data": {
      "image/png": "[encoded data removed]",
      "text/plain": [
       "<Figure size 640x480 with 1 Axes>"
      ]
     },
     "metadata": {},
     "output_type": "display_data"
    }
   ],
   "source": [
    "plt.title(str(nqubits) + ' spins magnetic field diagonalization')\n",
    "plt.plot(off_diagonal_norm_tot)\n",
    "plt.xlabel('Iteration')\n",
    "plt.ylabel(r'$|| \\sigma(e^{sW}He^{-sW}) || $')"
   ]
  },
  {
   "cell_type": "code",
   "execution_count": 6,
   "metadata": {},
   "outputs": [],
   "source": [
    "h_input = SymbolicHamiltonian( symbols.Z(0)+symbols.X(0) + symbols.Z(0) * symbols.X(1) + symbols.Y(2) + symbols.Y(1) * symbols.Y(2), nqubits = 3 )"
   ]
  },
  {
   "cell_type": "code",
   "execution_count": 10,
   "metadata": {},
   "outputs": [
    {
     "name": "stderr",
     "output_type": "stream",
     "text": [
      "[Qibo 0.2.5|WARNING|2024-02-22 08:38:54]: Calculating the dense form of a symbolic Hamiltonian. This operation is memory inefficient.\n"
     ]
    }
   ],
   "source": [
    "dbi = DoubleBracketIteration(deepcopy(h_input.dense))"
   ]
  },
  {
   "cell_type": "code",
   "execution_count": 11,
   "metadata": {},
   "outputs": [],
   "source": [
    "dbi(step=0.1)"
   ]
  },
  {
   "cell_type": "code",
   "execution_count": null,
   "metadata": {},
   "outputs": [],
   "source": []
  }
 ],
 "metadata": {
  "kernelspec": {
   "display_name": "DBF_qibo",
   "language": "python",
   "name": "python3"
  },
  "language_info": {
   "codemirror_mode": {
    "name": "ipython",
    "version": 3
   },
   "file_extension": ".py",
   "mimetype": "text/x-python",
   "name": "python",
   "nbconvert_exporter": "python",
   "pygments_lexer": "ipython3",
   "version": "3.11.7"
  }
 },
 "nbformat": 4,
 "nbformat_minor": 2
}
