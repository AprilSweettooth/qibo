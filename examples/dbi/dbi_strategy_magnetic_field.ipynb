{
 "cells": [
  {
   "cell_type": "markdown",
   "metadata": {},
   "source": [
    "# Double-Bracket Iteration Strategy: magnetic field (onsite Z)\n",
    "This notebook shows the diagonalization process of DBI using the magnetic field strategy, which varies the diagonal operator $D$ by gradient descent. To find the gradient with respect to $D$, parameterization of $D$ is required. For the purpose of this notebook, we represent it by onsite Pauli-Z operators, i.e.\n",
    "\n",
    "$$ D = \\sum \\alpha_i Z_i $$\n",
    "\n",
    "Note that it is also possible to have higher-order terms, such as $ D = \\sum \\alpha_i Z_i + \\sum \\beta_{i,j}Z_iZ_j+...$\n",
    "\n",
    "The gradients are calculated under the premise that the diagonalization gain curve can be fitted by a polynomial, and that the iteration step duration is taken at the first dip of the curve."
   ]
  },
  {
   "cell_type": "code",
   "execution_count": null,
   "metadata": {},
   "outputs": [],
   "source": [
    "from copy import deepcopy\n",
    "\n",
    "import numpy as np\n",
    "import matplotlib.pyplot as plt\n",
    "\n",
    "from qibo import hamiltonians, set_backend\n",
    "from qibo.hamiltonians import Hamiltonian, SymbolicHamiltonian\n",
    "from qibo.quantum_info import random_hermitian\n",
    "from qibo.models.dbi.double_bracket import DoubleBracketGeneratorType, DoubleBracketScheduling, DoubleBracketIteration\n",
    "from qibo.models.dbi.utils import *"
   ]
  },
  {
   "cell_type": "code",
   "execution_count": null,
   "metadata": {},
   "outputs": [],
   "source": [
    "def visualize_matrix(matrix, title=\"\"):\n",
    "    \"\"\"Visualize hamiltonian in a heatmap form.\"\"\"\n",
    "    fig, ax = plt.subplots(figsize=(5,5))\n",
    "    ax.set_title(title)\n",
    "    try:\n",
    "        im = ax.imshow(np.absolute(matrix), cmap=\"inferno\")\n",
    "    except TypeError:\n",
    "        im = ax.imshow(np.absolute(matrix.get()), cmap=\"inferno\")\n",
    "    fig.colorbar(im, ax=ax)\n"
   ]
  },
  {
   "cell_type": "markdown",
   "metadata": {},
   "source": [
    "## Test on random Hamiltonian"
   ]
  },
  {
   "cell_type": "code",
   "execution_count": null,
   "metadata": {},
   "outputs": [],
   "source": [
    "# backend\n",
    "set_backend(\"qibojit\", \"numba\")\n",
    "# initialize dbi object\n",
    "nqubits = 5\n",
    "h0 = random_hermitian(2**nqubits, seed=2)\n",
    "scheduling = DoubleBracketScheduling.hyperopt\n",
    "mode = DoubleBracketGeneratorType.single_commutator\n",
    "n_taylor = 5\n",
    "dbi = DoubleBracketIteration(Hamiltonian(nqubits=nqubits, matrix=h0), scheduling=scheduling, mode=mode)\n",
    "print(\"Initial off diagonal norm\", dbi.off_diagonal_norm)\n",
    "visualize_matrix(dbi.h.matrix, title=f'Random hamiltonian with L={nqubits}')"
   ]
  },
  {
   "cell_type": "code",
   "execution_count": null,
   "metadata": {},
   "outputs": [],
   "source": [
    "# generate the onsite Z operators\n",
    "onsite_Z_ops = generate_onsite_Z_ops(nqubits)\n",
    "d_coef = onsite_Z_decomposition(dbi.h.matrix, onsite_Z_ops)\n",
    "d = sum([d_coef[i] * onsite_Z_ops[i] for i in range(nqubits)])\n",
    "grad, s = gradient_onsite_Z(dbi, d, n_taylor=5, onsite_Z_ops=onsite_Z_ops)\n",
    "print('The initial D coefficients:', d_coef)\n",
    "print('Gradient:', grad)\n",
    "print('s:', s)"
   ]
  },
  {
   "cell_type": "code",
   "execution_count": null,
   "metadata": {},
   "outputs": [],
   "source": [
    "iters = 30\n",
    "off_diagonal_norm = [dbi.off_diagonal_norm]\n",
    "s_step = [0]\n",
    "for i in range(iters):\n",
    "    s, d_coef, d = gradient_descent_onsite_Z(dbi, d_coef, d, onsite_Z_ops=onsite_Z_ops, max_evals=100)\n",
    "    dbi(step=s, d=d)\n",
    "    off_diagonal_norm.append(dbi.off_diagonal_norm)\n",
    "    s_step.append(s)"
   ]
  },
  {
   "cell_type": "code",
   "execution_count": null,
   "metadata": {},
   "outputs": [],
   "source": [
    "plt.title(str(nqubits) + ' spins random hamiltonian')\n",
    "plt.plot(off_diagonal_norm)\n",
    "plt.xlabel('Iteration')\n",
    "plt.ylabel(r'$|| \\sigma(e^{sW}He^{-sW}) || $')"
   ]
  },
  {
   "cell_type": "markdown",
   "metadata": {},
   "source": [
    "## Test on TFIM\n",
    "Here we choose to customize our TFIM in the X axis using `SymbolicHamiltonian`. It is also possible to use Hadamard gate to rotate the TFIM inbuilt in `qibo`.\n",
    "\n",
    "$$ H = -(\\sum X_i X_{i+1} + \\sum hZ_i)"
   ]
  },
  {
   "cell_type": "code",
   "execution_count": null,
   "metadata": {},
   "outputs": [],
   "source": [
    "# generate the Hamiltonian\n",
    "nqubits = 5\n",
    "h = 1\n",
    "H_TFIM = SymbolicHamiltonian( - h*symbols.Z(nqubits-1), nqubits=nqubits)\n",
    "# add linear interaction terms\n",
    "for i in range(nqubits-1):\n",
    "    H_TFIM -= SymbolicHamiltonian(symbols.X(i)*symbols.X(i+1) + h*symbols.Z(i), nqubits=nqubits)\n",
    "H_TFIM = H_TFIM.dense\n",
    "visualize_matrix(H_TFIM.matrix, title=f'TFIM with L={nqubits} h={h}')"
   ]
  },
  {
   "cell_type": "code",
   "execution_count": null,
   "metadata": {},
   "outputs": [],
   "source": [
    "# backend\n",
    "set_backend(\"qibojit\", \"numba\")\n",
    "# initialize dbi object\n",
    "dbi_TFIM = DoubleBracketIteration(deepcopy(H_TFIM), scheduling=scheduling, mode=mode)"
   ]
  },
  {
   "cell_type": "code",
   "execution_count": null,
   "metadata": {},
   "outputs": [],
   "source": [
    "# generate the onsite Z operators\n",
    "onsite_Z_ops = generate_onsite_Z_ops(nqubits)\n",
    "d_coef = onsite_Z_decomposition(dbi_TFIM.h.matrix, onsite_Z_ops)\n",
    "d = sum([d_coef[i] * onsite_Z_ops[i] for i in range(nqubits)])\n",
    "grad, s = gradient_onsite_Z(dbi_TFIM, d, n_taylor=5, onsite_Z_ops=onsite_Z_ops)\n",
    "print('Initial off-diagonal norm:', dbi.off_diagonal_norm)\n",
    "print('The initial D coefficients:', d_coef)\n",
    "print('Gradient:', grad)\n",
    "print('s:', s)"
   ]
  },
  {
   "cell_type": "code",
   "execution_count": null,
   "metadata": {},
   "outputs": [],
   "source": [
    "NSTEPS = 15\n",
    "off_diagonal_norm_delta = [dbi_TFIM.off_diagonal_norm]\n",
    "s_step_delta = [0]\n",
    "for _ in range(NSTEPS):\n",
    "    s, d_coef, d = gradient_descent_onsite_Z(dbi_TFIM, d_coef, d, onsite_Z_ops=onsite_Z_ops, max_evals=100, n_taylor=5, use_ds=True)\n",
    "    dbi_TFIM(step=s, d=d)\n",
    "    off_diagonal_norm_delta.append(dbi_TFIM.off_diagonal_norm)\n",
    "    s_step_delta.append(s)\n",
    "    print(f\"New optimized step at iteration {_+1}/{NSTEPS}: {s} with d_coef {d_coef}, loss {dbi_TFIM.off_diagonal_norm}\")"
   ]
  },
  {
   "cell_type": "code",
   "execution_count": null,
   "metadata": {},
   "outputs": [],
   "source": [
    "plt.title(str(nqubits) + ' spins TFIM magnetic field diagonalization')\n",
    "plt.plot(off_diagonal_norm_delta)\n",
    "plt.xlabel('Iteration')\n",
    "plt.ylabel(r'$|| \\sigma(e^{sW}He^{-sW}) || $')"
   ]
  },
  {
   "cell_type": "code",
   "execution_count": null,
   "metadata": {},
   "outputs": [],
   "source": [
    "# the final matrix\n",
    "visualize_matrix(dbi_TFIM.h.matrix)"
   ]
  },
  {
   "cell_type": "markdown",
   "metadata": {},
   "source": [
    "## Different initial `d`\n",
    "Next, we show the effect of different choices of the initial direction of the gradient descent method."
   ]
  },
  {
   "cell_type": "code",
   "execution_count": null,
   "metadata": {},
   "outputs": [],
   "source": [
    "H = H_TFIM.matrix\n",
    "L = int(np.log2(H.shape[0]))\n",
    "N = np.diag(np.linspace(np.min(np.diag(H)),np.max(np.diag(H)),2**L))\n",
    "d_coef = onsite_Z_decomposition(N, onsite_Z_ops)\n",
    "print(d_coef)\n",
    "d = sum([d_coef[i] * onsite_Z_ops[i] for i in range(nqubits)])"
   ]
  },
  {
   "cell_type": "code",
   "execution_count": null,
   "metadata": {},
   "outputs": [],
   "source": [
    "visualize_matrix(H, 'Initial hamiltonian')\n",
    "visualize_matrix(N, 'Min-max diagonal matrix')\n",
    "visualize_matrix(d, 'Min-max projection onsite-Z')"
   ]
  },
  {
   "cell_type": "markdown",
   "metadata": {},
   "source": [
    "Here we see that the min-max diagonal operator can be correctly decomposed into onsite-Z operators. Then we generate the diagonalization curve and compare with other initializations."
   ]
  },
  {
   "cell_type": "code",
   "execution_count": null,
   "metadata": {},
   "outputs": [],
   "source": [
    "# backend\n",
    "set_backend(\"qibojit\", \"numba\")\n",
    "# initialize dbi object\n",
    "dbi_TFIM_MMH = DoubleBracketIteration(deepcopy(H_TFIM), scheduling=scheduling, mode=mode)"
   ]
  },
  {
   "cell_type": "code",
   "execution_count": null,
   "metadata": {},
   "outputs": [],
   "source": [
    "NSTEPS = 15\n",
    "off_diagonal_norm_MMH = [dbi_TFIM_MMH.off_diagonal_norm]\n",
    "s_step_MMH = [0]\n",
    "# d = np.diag(np.linspace(np.min(np.diag(dbi_TFIM_MMH.h.matrix)),np.max(np.diag(dbi_TFIM_MMH.h.matrix)),2**nqubits))\n",
    "# d_coef = onsite_Z_decomposition(d, onsite_Z_ops)\n",
    "for _ in range(NSTEPS):\n",
    "    d = np.diag(np.linspace(np.min(np.diag(dbi_TFIM_MMH.h.matrix)),np.max(np.diag(dbi_TFIM_MMH.h.matrix)),2**nqubits))\n",
    "    d_coef = onsite_Z_decomposition(d, onsite_Z_ops)\n",
    "    s, d_coef, d = gradient_descent_onsite_Z(dbi_TFIM_MMH, d_coef, d, onsite_Z_ops=onsite_Z_ops, max_evals=100)\n",
    "    dbi_TFIM_MMH(d=d, step=s)\n",
    "    off_diagonal_norm_MMH.append(dbi_TFIM_MMH.off_diagonal_norm)\n",
    "    s_step_MMH.append(s)\n",
    "    print(f\"New optimized step at iteration {_+1}/{NSTEPS}: {s} with d_coef {d_coef}, loss {dbi_TFIM_MMH.off_diagonal_norm}\")"
   ]
  },
  {
   "cell_type": "code",
   "execution_count": null,
   "metadata": {},
   "outputs": [],
   "source": [
    "plt.title(str(nqubits) + ' spins TFIM magnetic field diagonalization')\n",
    "plt.plot(off_diagonal_norm_MMH, label='MMH')\n",
    "plt.plot(off_diagonal_norm_delta, label='delta')\n",
    "plt.xlabel('Iteration')\n",
    "plt.ylabel(r'$|| \\sigma(e^{sW}He^{-sW}) || $')\n",
    "plt.legend()"
   ]
  },
  {
   "cell_type": "markdown",
   "metadata": {},
   "source": [
    "## Effect of `n_taylor`"
   ]
  },
  {
   "cell_type": "code",
   "execution_count": null,
   "metadata": {},
   "outputs": [],
   "source": [
    "# backend\n",
    "set_backend(\"qibojit\", \"numba\")\n",
    "# initialize dbi object\n",
    "nqubits = 5\n",
    "h0 = random_hermitian(2**nqubits, seed=2)\n",
    "scheduling = DoubleBracketScheduling.hyperopt\n",
    "mode = DoubleBracketGeneratorType.single_commutator\n",
    "n_1 = 5\n",
    "n_2 = 3\n",
    "dbi_1 = DoubleBracketIteration(Hamiltonian(nqubits=nqubits, matrix=h0), scheduling=scheduling, mode=mode)\n",
    "dbi_2 = DoubleBracketIteration(Hamiltonian(nqubits=nqubits, matrix=h0), scheduling=scheduling, mode=mode)\n",
    "print(\"Initial off diagonal norm\", dbi_1.off_diagonal_norm)\n",
    "visualize_matrix(dbi_1.h.matrix, title=f'Random hamiltonian with L={nqubits}')"
   ]
  },
  {
   "cell_type": "code",
   "execution_count": null,
   "metadata": {},
   "outputs": [],
   "source": [
    "# generate the onsite Z operators\n",
    "onsite_Z_ops = generate_onsite_Z_ops(nqubits)\n",
    "d_coef = onsite_Z_decomposition(dbi.h.matrix, onsite_Z_ops)\n",
    "d = sum([d_coef[i] * onsite_Z_ops[i] for i in range(nqubits)])\n",
    "grad, s = gradient_onsite_Z(dbi,d,n_taylor=5, onsite_Z_ops=onsite_Z_ops)\n",
    "print('The initial D coefficients:', d_coef)\n",
    "print('Gradient:', grad)\n",
    "print('s:', s)"
   ]
  },
  {
   "cell_type": "code",
   "execution_count": null,
   "metadata": {},
   "outputs": [],
   "source": [
    "iters = 30\n",
    "d_coef_1, d_1 = d_coef, d\n",
    "d_coef_2, d_2 = d_coef, d\n",
    "\n",
    "off_diagonal_norm_1 = [dbi_1.off_diagonal_norm]\n",
    "off_diagonal_norm_2 = [dbi_2.off_diagonal_norm]\n",
    "s_step_1 = [0]\n",
    "s_step_2 = [0]\n",
    "for i in range(iters):\n",
    "    s_1, d_coef_1, d_1 = gradient_descent_onsite_Z(dbi_1, d_coef_1, d_1, onsite_Z_ops=onsite_Z_ops, n_taylor=n_1, max_evals=100)\n",
    "    s_2, d_coef_2, d_2 = gradient_descent_onsite_Z(dbi_2, d_coef_2, d_2, onsite_Z_ops=onsite_Z_ops, n_taylor=n_2, max_evals=100)\n",
    "    dbi_1(step=s_1, d=d_1)\n",
    "    dbi_2(step=s_2, d=d_2)\n",
    "    off_diagonal_norm_1.append(dbi_1.off_diagonal_norm)\n",
    "    off_diagonal_norm_2.append(dbi_2.off_diagonal_norm)\n",
    "    s_step_1.append(s_1)\n",
    "    s_step_2.append(s_2)"
   ]
  },
  {
   "cell_type": "code",
   "execution_count": null,
   "metadata": {},
   "outputs": [],
   "source": [
    "plt.title(str(nqubits) + ' spins magnetic field diagonalization')\n",
    "plt.plot(off_diagonal_norm_1, label=f'n_taylor={n_1}')\n",
    "plt.plot(off_diagonal_norm_2, label=f'n_taylor={n_2}')\n",
    "plt.legend()\n",
    "plt.xlabel('Iteration')\n",
    "plt.ylabel(r'$|| \\sigma(e^{sW}He^{-sW}) || $')"
   ]
  }
 ],
 "metadata": {
  "kernelspec": {
   "display_name": "DBF_qibo",
   "language": "python",
   "name": "python3"
  },
  "language_info": {
   "codemirror_mode": {
    "name": "ipython",
    "version": 3
   },
   "file_extension": ".py",
   "mimetype": "text/x-python",
   "name": "python",
   "nbconvert_exporter": "python",
   "pygments_lexer": "ipython3",
   "version": "3.11.7"
  }
 },
 "nbformat": 4,
 "nbformat_minor": 2
}
