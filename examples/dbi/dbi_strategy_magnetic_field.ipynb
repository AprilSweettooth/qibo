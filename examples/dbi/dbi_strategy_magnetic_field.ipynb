{
 "cells": [
  {
   "cell_type": "markdown",
   "metadata": {},
   "source": [
    "# Double-Bracket Iteration Strategy: magnetic field (onsite Z)\n",
    "This notebook shows the diagonalization process of DBI using the magnetic field strategy, which varies the diagonal operator $D$ by gradient descent. To find the gradient with respect to $D$, parameterization of $D$ is required. For the purpose of this notebook, we represent it by onsite Pauli-Z operators, i.e.\n",
    "\n",
    "$$ D = \\sum \\alpha_i Z_i $$\n",
    "\n",
    "Note that it is also possible to have higher-order terms, such as $ D = \\sum \\alpha_i Z_i + \\sum \\beta_{i,j}Z_iZ_j+...$\n",
    "\n",
    "The gradients are calculated under the premise that the diagonalization gain curve can be fitted by a polynomial, and that the iteration step duration is taken at the first dip of the curve."
   ]
  },
  {
   "cell_type": "code",
   "execution_count": null,
   "metadata": {},
   "outputs": [],
   "source": [
    "from copy import deepcopy\n",
    "\n",
    "import numpy as np\n",
    "import matplotlib.pyplot as plt\n",
    "\n",
    "from qibo import hamiltonians, set_backend\n",
    "from qibo.hamiltonians import Hamiltonian, SymbolicHamiltonian\n",
    "from qibo.quantum_info import random_hermitian\n",
    "from qibo.models.dbi.double_bracket import DoubleBracketGeneratorType, DoubleBracketScheduling, DoubleBracketIteration\n",
    "from qibo.models.dbi.utils import *"
   ]
  },
  {
   "cell_type": "code",
   "execution_count": null,
   "metadata": {},
   "outputs": [],
   "source": [
    "def visualize_matrix(matrix, title=\"\"):\n",
    "    \"\"\"Visualize hamiltonian in a heatmap form.\"\"\"\n",
    "    fig, ax = plt.subplots(figsize=(5,5))\n",
    "    ax.set_title(title)\n",
    "    try:\n",
    "        im = ax.imshow(np.absolute(matrix), cmap=\"inferno\")\n",
    "    except TypeError:\n",
    "        im = ax.imshow(np.absolute(matrix.get()), cmap=\"inferno\")\n",
    "    fig.colorbar(im, ax=ax)\n"
   ]
  },
  {
   "cell_type": "markdown",
   "metadata": {},
   "source": [
    "## Test on random Hamiltonian"
   ]
  },
  {
   "cell_type": "code",
   "execution_count": null,
   "metadata": {},
   "outputs": [],
   "source": [
    "# backend\n",
    "set_backend(\"qibojit\", \"numba\")\n",
    "# initialize dbi object\n",
    "nqubits = 5\n",
    "h0 = random_hermitian(2**nqubits, seed=2)\n",
    "dbi = DoubleBracketIteration(Hamiltonian(nqubits=nqubits, matrix=h0))\n",
    "print(\"Initial off diagonal norm\", dbi.off_diagonal_norm)\n",
    "visualize_matrix(dbi.h.matrix, title=f'Random hamiltonian with L={nqubits}')"
   ]
  },
  {
   "cell_type": "code",
   "execution_count": null,
   "metadata": {},
   "outputs": [],
   "source": [
    "# generate the onsite Z operators\n",
    "onsite_Z_ops = generate_onsite_Z_ops(nqubits)\n",
    "d_coef = onsite_Z_decomposition(dbi.h.matrix, onsite_Z_ops)\n",
    "d = sum([d_coef[i] * onsite_Z_ops[i] for i in range(nqubits)])\n",
    "grad, s = gradient_onsite_Z(dbi,d,3, onsite_Z_ops)\n",
    "print('The initial D coefficients:', d_coef)\n",
    "print('Gradient:', grad)\n",
    "print('s:', s)"
   ]
  },
  {
   "cell_type": "code",
   "execution_count": null,
   "metadata": {},
   "outputs": [],
   "source": [
    "iters = 30\n",
    "off_diagonal_norm_tot = [dbi.off_diagonal_norm]\n",
    "s_step = [0]\n",
    "for i in range(iters):\n",
    "    s, d_coef, d = gradient_descent_onsite_Z(dbi, d_coef, d, onsite_Z_ops=onsite_Z_ops, max_evals=100)\n",
    "    off_diagonal_norm_tot.append(dbi.off_diagonal_norm)\n",
    "    s_step.append(s)"
   ]
  },
  {
   "cell_type": "code",
   "execution_count": null,
   "metadata": {},
   "outputs": [],
   "source": [
    "plt.title(str(nqubits) + ' spins magnetic field diagonalization')\n",
    "plt.plot(off_diagonal_norm_tot)\n",
    "plt.xlabel('Iteration')\n",
    "plt.ylabel(r'$|| \\sigma(e^{sW}He^{-sW}) || $')"
   ]
  },
  {
   "cell_type": "markdown",
   "metadata": {},
   "source": [
    "## Test on TFIM\n",
    "Here we choose to customize our TFIM in the X axis using `SymbolicHamiltonian`. It is also possible to use Hadamard gate to rotate the TFIM inbuilt in `qibo`.\n",
    "\n",
    "$$ H = -(\\sum X_i X_{i+1} + \\sum hZ_i)"
   ]
  },
  {
   "cell_type": "code",
   "execution_count": null,
   "metadata": {},
   "outputs": [],
   "source": [
    "# generate the Hamiltonian\n",
    "nqubits = 5\n",
    "h = 1\n",
    "H_TFIM = SymbolicHamiltonian( - h*symbols.Z(nqubits-1), nqubits=nqubits)\n",
    "# add linear interaction terms\n",
    "for i in range(nqubits-1):\n",
    "    H_TFIM -= SymbolicHamiltonian(symbols.X(i)*symbols.X(i+1) + h*symbols.Z(i), nqubits=nqubits)\n",
    "H_TFIM = H_TFIM.dense\n",
    "visualize_matrix(H_TFIM.matrix, title=f'TFIM with L={nqubits} h={h}')"
   ]
  },
  {
   "cell_type": "code",
   "execution_count": null,
   "metadata": {},
   "outputs": [],
   "source": [
    "# backend\n",
    "set_backend(\"qibojit\", \"numba\")\n",
    "# initialize dbi object\n",
    "dbi_TFIM = DoubleBracketIteration(deepcopy(H_TFIM))"
   ]
  },
  {
   "cell_type": "code",
   "execution_count": null,
   "metadata": {},
   "outputs": [],
   "source": [
    "# generate the onsite Z operators\n",
    "onsite_Z_ops = generate_onsite_Z_ops(nqubits)\n",
    "d_coef = onsite_Z_decomposition(dbi_TFIM.h.matrix, onsite_Z_ops)\n",
    "d = sum([d_coef[i] * onsite_Z_ops[i] for i in range(nqubits)])\n",
    "grad, s = gradient_onsite_Z(dbi_TFIM,d,3, onsite_Z_ops)\n",
    "print('Initial off-diagonal norm:', dbi.off_diagonal_norm)\n",
    "print('The initial D coefficients:', d_coef)\n",
    "print('Gradient:', grad)\n",
    "print('s:', s)"
   ]
  },
  {
   "cell_type": "code",
   "execution_count": null,
   "metadata": {},
   "outputs": [],
   "source": [
    "NSTEPS = 30\n",
    "off_diagonal_norm_tot = [dbi_TFIM.off_diagonal_norm]\n",
    "s_step = [0]\n",
    "for _ in range(NSTEPS):\n",
    "    s, d_coef, d = gradient_descent_onsite_Z(dbi_TFIM, d_coef, d, onsite_Z_ops=onsite_Z_ops, max_evals=100)\n",
    "    off_diagonal_norm_tot.append(dbi_TFIM.off_diagonal_norm)\n",
    "    s_step.append(s)\n",
    "    print(f\"New optimized step at iteration {_+1}/{NSTEPS}: {s} with d_coef {d_coef}, loss {dbi_TFIM.off_diagonal_norm}\")"
   ]
  },
  {
   "cell_type": "code",
   "execution_count": null,
   "metadata": {},
   "outputs": [],
   "source": [
    "plt.title(str(nqubits) + ' spins TFIM magnetic field diagonalization')\n",
    "plt.plot(off_diagonal_norm_tot)\n",
    "plt.xlabel('Iteration')\n",
    "plt.ylabel(r'$|| \\sigma(e^{sW}He^{-sW}) || $')"
   ]
  },
  {
   "cell_type": "code",
   "execution_count": null,
   "metadata": {},
   "outputs": [],
   "source": [
    "# the final matrix\n",
    "visualize_matrix(dbi_TFIM.h.matrix)"
   ]
  },
  {
   "cell_type": "markdown",
   "metadata": {},
   "source": [
    "## Different initial `d`\n",
    "Next, we show the effect of different choices of the initial direction of the gradient descent method."
   ]
  }
 ],
 "metadata": {
  "kernelspec": {
   "display_name": "DBF_qibo",
   "language": "python",
   "name": "python3"
  },
  "language_info": {
   "codemirror_mode": {
    "name": "ipython",
    "version": 3
   },
   "file_extension": ".py",
   "mimetype": "text/x-python",
   "name": "python",
   "nbconvert_exporter": "python",
   "pygments_lexer": "ipython3",
   "version": "3.11.7"
  }
 },
 "nbformat": 4,
 "nbformat_minor": 2
}
