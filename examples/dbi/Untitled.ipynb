{
 "cells": [
  {
   "cell_type": "code",
   "execution_count": 1,
   "id": "0e206e0b-2e57-4b67-8c52-994f48989ccf",
   "metadata": {},
   "outputs": [
    {
     "name": "stderr",
     "output_type": "stream",
     "text": [
      "[Qibo 0.2.2|INFO|2023-11-17 17:07:57]: Using numpy backend on /CPU:0\n"
     ]
    }
   ],
   "source": [
    "import qibo\n",
    "from qibo.models.qcnn import QuantumCNN\n",
    "import math\n",
    "import qibo\n",
    "import numpy as np\n",
    "import random\n",
    "\n",
    "qibo.set_backend(\"numpy\")\n",
    "data = np.random.rand(16)\n",
    "data = data / np.linalg.norm(data)\n",
    "data = [data]\n",
    "labels = [[1]]\n",
    "testbias = np.zeros(1)\n",
    "testangles = [random.uniform(0, 2 * np.pi) for i in range(21 * 2)]\n",
    "init_theta = np.concatenate((testbias, testangles))\n",
    "test_qcnn = QuantumCNN(nqubits=4, nlayers=1, nclasses=2, params=init_theta)\n",
    "testcircuit = test_qcnn._circuit\n",
    "result = test_qcnn.minimize(\n",
    "   init_theta, data=data, labels=labels, nshots=10000, method=\"Powell\"\n",
    ")\n",
    "predict0 = test_qcnn.predict(data, nshots=10000)"
   ]
  },
  {
   "cell_type": "code",
   "execution_count": 2,
   "id": "58b7823b-3d33-415f-8bca-6ad0262ce6c4",
   "metadata": {},
   "outputs": [
    {
     "data": {
      "text/plain": [
       "array([1.02722098])"
      ]
     },
     "execution_count": 2,
     "metadata": {},
     "output_type": "execute_result"
    }
   ],
   "source": [
    "predict0"
   ]
  },
  {
   "cell_type": "code",
   "execution_count": null,
   "id": "df635863-ceb4-45bb-9e3d-caa3df9b2773",
   "metadata": {},
   "outputs": [],
   "source": []
  }
 ],
 "metadata": {
  "kernelspec": {
   "display_name": "Python 3 (ipykernel)",
   "language": "python",
   "name": "python3"
  },
  "language_info": {
   "codemirror_mode": {
    "name": "ipython",
    "version": 3
   },
   "file_extension": ".py",
   "mimetype": "text/x-python",
   "name": "python",
   "nbconvert_exporter": "python",
   "pygments_lexer": "ipython3",
   "version": "3.10.0"
  }
 },
 "nbformat": 4,
 "nbformat_minor": 5
}
