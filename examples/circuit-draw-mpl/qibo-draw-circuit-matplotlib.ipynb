{
 "cells": [
  {
   "cell_type": "markdown",
   "id": "f3c96f32",
   "metadata": {},
   "source": [
    "## Matplotlib circuit drawing for Qibo"
   ]
  },
  {
   "cell_type": "markdown",
   "id": "e79c7a54",
   "metadata": {},
   "source": [
    "Qibo now uses matplotlib to draw circuit, this new feature is base on `plot` function, you can pass the Qibo circuit along a built-in or custom style among other options."
   ]
  },
  {
   "cell_type": "markdown",
   "id": "d54ec28a",
   "metadata": {},
   "source": [
    "Follow the examples below to learn how to use it."
   ]
  },
  {
   "cell_type": "markdown",
   "id": "9fb3188e",
   "metadata": {},
   "source": [
    "The default function signature for `plot`:\n",
    "    \n",
    "```python\n",
    "plot(circuit, scale=0.6, cluster_gates=True, style=None)\n",
    "```\n",
    "The parameters on nthis function are:\n",
    "\n",
    "- `circuit`: Qibo circuit (mandatory)\n",
    "- `scale`: Scale up or down the output plot (optional, default value: 0.6)\n",
    "- `cluster_gates`: Group gates (optional, default value: True)\n",
    "- `style`: Style your circuit with a built-n style or custom style (optional, default vale: None)"
   ]
  },
  {
   "cell_type": "code",
   "execution_count": 1,
   "id": "66e4921b-c1ea-479d-9926-d93a7c784be9",
   "metadata": {},
   "outputs": [
    {
     "ename": "SyntaxError",
     "evalue": "expected ':' (mpldrawer.py, line 572)",
     "output_type": "error",
     "traceback": [
      "Traceback \u001b[1;36m(most recent call last)\u001b[0m:\n",
      "\u001b[0m  File \u001b[0;32m~\\.conda\\envs\\qibo-env\\Lib\\site-packages\\IPython\\core\\interactiveshell.py:3508\u001b[0m in \u001b[0;35mrun_code\u001b[0m\n    exec(code_obj, self.user_global_ns, self.user_ns)\u001b[0m\n",
      "\u001b[0m  Cell \u001b[0;32mIn[1], line 9\u001b[0m\n    from qibo.ui import plot\u001b[0m\n",
      "\u001b[1;36m  File \u001b[1;32m~\\Desktop\\Optimizadores\\rotosolve\\qibo\\src\\qibo\\ui\\__init__.py:1\u001b[1;36m\n\u001b[1;33m    from qibo.ui.mpldrawer import plot\u001b[1;36m\n",
      "\u001b[1;36m  File \u001b[1;32m~\\Desktop\\Optimizadores\\rotosolve\\qibo\\src\\qibo\\ui\\mpldrawer.py:572\u001b[1;36m\u001b[0m\n\u001b[1;33m    else (\u001b[0m\n\u001b[1;37m         ^\u001b[0m\n\u001b[1;31mSyntaxError\u001b[0m\u001b[1;31m:\u001b[0m expected ':'\n"
     ]
    }
   ],
   "source": [
    "# General libraries\n",
    "import matplotlib.pyplot as plt\n",
    "import numpy as np\n",
    "\n",
    "# Qibo libraries\n",
    "import qibo\n",
    "from qibo import gates, models\n",
    "from qibo.models import Circuit\n",
    "from qibo.ui import plot\n",
    "\n",
    "%matplotlib inline"
   ]
  },
  {
   "cell_type": "code",
   "execution_count": null,
   "id": "eda54008",
   "metadata": {},
   "outputs": [],
   "source": [
    "nqubits = 4\n",
    "nlayers = 3\n",
    "\n",
    "# Create variational ansatz circuit Twolocal\n",
    "ansatz = models.Circuit(nqubits)\n",
    "for l in range(nlayers):\n",
    "    \n",
    "    ansatz.add((gates.RY(q, theta=0) for q in range(nqubits)))\n",
    "    \n",
    "    for i in range(nqubits - 3):\n",
    "        ansatz.add(gates.CNOT(i, i+1))\n",
    "        ansatz.add(gates.CNOT(i, i+2))\n",
    "        ansatz.add(gates.CNOT(i+1, i+2))\n",
    "        ansatz.add(gates.CNOT(i, i+3))\n",
    "        ansatz.add(gates.CNOT(i+1, i+3))\n",
    "        ansatz.add(gates.CNOT(i+2, i+3))\n",
    "    \n",
    "ansatz.add((gates.RY(q, theta=0) for q in range(nqubits)))\n",
    "ansatz.add(gates.M(qubit) for qubit in range(2))\n",
    "print(ansatz.draw())"
   ]
  },
  {
   "cell_type": "code",
   "execution_count": null,
   "id": "ea99c3d4-e36f-46ca-81c4-c8f10d6bcbe5",
   "metadata": {},
   "outputs": [],
   "source": [
    "plot(ansatz, scale = 0.6, cluster_gates = False)"
   ]
  },
  {
   "cell_type": "code",
   "execution_count": null,
   "id": "81b65ea2-06a0-437d-b8f3-2ac176ea9b25",
   "metadata": {},
   "outputs": [],
   "source": [
    "plot(ansatz, scale = 0.7, cluster_gates = True)"
   ]
  },
  {
   "cell_type": "code",
   "execution_count": null,
   "id": "62d00656-b40d-44f1-b56a-6733eeed6759",
   "metadata": {},
   "outputs": [],
   "source": [
    "c = models.Circuit(3)\n",
    "c.add(gates.H(1))\n",
    "c.add(gates.X(1))\n",
    "c.add(gates.SX(2))\n",
    "c.add(gates.CSX(0,2))\n",
    "c.add(gates.TOFFOLI(0,1, 2))\n",
    "c.add(gates.CNOT(1, 2))\n",
    "c.add(gates.SWAP(1,2))\n",
    "c.add(gates.SiSWAP(1,2))\n",
    "c.add(gates.FSWAP(1,2))\n",
    "c.add(gates.DEUTSCH(1, 0, 2, np.pi))\n",
    "c.add(gates.X(1))\n",
    "c.add(gates.X(0))\n",
    "c.add(gates.M(qubit) for qubit in range(2))\n",
    "print(c.draw())"
   ]
  },
  {
   "cell_type": "code",
   "execution_count": null,
   "id": "f68eb0c1-9ae4-436b-948d-74d24d782a80",
   "metadata": {},
   "outputs": [],
   "source": [
    "plot(c)"
   ]
  },
  {
   "cell_type": "code",
   "execution_count": null,
   "id": "5f5896a5-e639-401c-992a-19b960720ec4",
   "metadata": {},
   "outputs": [],
   "source": [
    "from qibo.models import QFT\n",
    "c = QFT(5)\n",
    "c.add(gates.M(qubit) for qubit in range(2))\n",
    "print(c.draw())"
   ]
  },
  {
   "cell_type": "code",
   "execution_count": null,
   "id": "afa80613-6330-4a85-928f-4cb884d81990",
   "metadata": {},
   "outputs": [],
   "source": [
    "ax, fig = plot(c, scale = 0.8, cluster_gates = True, style=\"garnacha\")"
   ]
  },
  {
   "cell_type": "code",
   "execution_count": null,
   "id": "916f7b83-1ad7-4984-8573-eb55dfeb125d",
   "metadata": {},
   "outputs": [],
   "source": [
    "ax, fig = plot(c, scale = 0.8, cluster_gates = True, style=\"fardelejo\")"
   ]
  },
  {
   "cell_type": "code",
   "execution_count": null,
   "id": "b9e1176c-d8dc-47e4-9607-ad24f6f536b9",
   "metadata": {},
   "outputs": [],
   "source": [
    "ax, fig = plot(c, scale = 0.8, cluster_gates = True, style=\"quantumspain\")"
   ]
  },
  {
   "cell_type": "code",
   "execution_count": null,
   "id": "eaefdf76-af68-4187-996d-bdc9c33a4242",
   "metadata": {},
   "outputs": [],
   "source": [
    "ax, fig = plot(c, scale = 0.8, cluster_gates = True, style=\"color-blind\")"
   ]
  },
  {
   "cell_type": "code",
   "execution_count": null,
   "id": "56f4f3cc-6864-4ef2-aa19-9c209fc217e5",
   "metadata": {},
   "outputs": [],
   "source": [
    "custom_style = {\n",
    "    \"facecolor\" : \"#6497bf\",\n",
    "    \"edgecolor\" : \"#01016f\",\n",
    "    \"linecolor\" : \"#01016f\",\n",
    "    \"textcolor\" : \"#01016f\",\n",
    "    \"fillcolor\" : \"#ffb9b9\",\n",
    "    \"gatecolor\" : \"#d8031c\",\n",
    "    \"controlcolor\" : \"#360000\"\n",
    "}\n",
    "\n",
    "ax, fig = plot(c, scale = 0.8, cluster_gates = True, style=custom_style)"
   ]
  },
  {
   "cell_type": "code",
   "execution_count": null,
   "id": "f5077d51",
   "metadata": {},
   "outputs": [],
   "source": [
    "from qibo.models import QFT\n",
    "c = QFT(5)\n",
    "c.add(gates.M(qubit) for qubit in range(2))\n",
    "print(c.fuse().draw())"
   ]
  },
  {
   "cell_type": "code",
   "execution_count": null,
   "id": "259e5c4f",
   "metadata": {},
   "outputs": [],
   "source": [
    "ax, fig = plot(c.fuse(), scale = 0.8, cluster_gates = True, style=\"cachirulo\")"
   ]
  },
  {
   "cell_type": "code",
   "execution_count": null,
   "id": "a9f50b42",
   "metadata": {},
   "outputs": [],
   "source": []
  }
 ],
 "metadata": {
  "kernelspec": {
   "display_name": "Python 3 (ipykernel)",
   "language": "python",
   "name": "python3"
  },
  "language_info": {
   "codemirror_mode": {
    "name": "ipython",
    "version": 3
   },
   "file_extension": ".py",
   "mimetype": "text/x-python",
   "name": "python",
   "nbconvert_exporter": "python",
   "pygments_lexer": "ipython3",
   "version": "3.11.3"
  }
 },
 "nbformat": 4,
 "nbformat_minor": 5
}
